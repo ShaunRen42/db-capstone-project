{
 "cells": [
  {
   "cell_type": "markdown",
   "id": "69431225",
   "metadata": {},
   "source": [
    "# Little Lemon Database Client"
   ]
  },
  {
   "cell_type": "code",
   "execution_count": 18,
   "id": "d46eb495",
   "metadata": {},
   "outputs": [],
   "source": [
    "# Import MySQL Connector/Python \n",
    "import mysql.connector as connector"
   ]
  },
  {
   "cell_type": "markdown",
   "id": "366464f8",
   "metadata": {},
   "source": [
    "## Task 1: Connect to Little Lemon database"
   ]
  },
  {
   "cell_type": "code",
   "execution_count": 19,
   "id": "a109dd85",
   "metadata": {},
   "outputs": [],
   "source": [
    "connection = connector.connect(user = \"newuser\", password = \"4hd86nd710d0gnvyhd71\", db = \"littlelemondb\") "
   ]
  },
  {
   "cell_type": "code",
   "execution_count": 20,
   "id": "babb6fac",
   "metadata": {},
   "outputs": [],
   "source": [
    "# Create a cursor\n",
    "cursor = connection.cursor()"
   ]
  },
  {
   "cell_type": "markdown",
   "id": "a2896ed8",
   "metadata": {},
   "source": [
    "## Task 2: Query the database to show all tables within the database"
   ]
  },
  {
   "cell_type": "code",
   "execution_count": 21,
   "id": "d5d49f8c",
   "metadata": {},
   "outputs": [
    {
     "name": "stdout",
     "output_type": "stream",
     "text": [
      "('bookings',)\n",
      "('bookingstatus',)\n",
      "('customers',)\n",
      "('customers_150',)\n",
      "('delivery',)\n",
      "('menuitems',)\n",
      "('menuitems_2',)\n",
      "('menus',)\n",
      "('orders',)\n",
      "('ordersview',)\n",
      "('staff',)\n"
     ]
    }
   ],
   "source": [
    "show_tables_query = \"SHOW tables\" \n",
    "cursor.execute(show_tables_query)\n",
    "for table in cursor:\n",
    "    print(table)"
   ]
  },
  {
   "cell_type": "markdown",
   "id": "fdf805d5",
   "metadata": {},
   "source": [
    "## Task 3: Query table with JOIN"
   ]
  },
  {
   "cell_type": "code",
   "execution_count": 23,
   "id": "955848c9",
   "metadata": {},
   "outputs": [
    {
     "name": "stdout",
     "output_type": "stream",
     "text": [
      "(1, 'Vanessa McCarthy', '351258074', 'Vanessa.M@gmail.com')\n",
      "(2, 'Marcos Romero', '351474048', 'Marcos.R@gmail.com')\n",
      "(3, 'Anna Iversen', '351970582', 'Anna.I@gmail.com')\n"
     ]
    }
   ],
   "source": [
    "show_customers_query=\"\"\"\n",
    "SELECT a.* FROM customers AS a\n",
    "INNER JOIN orders as b\n",
    "ON a.CustomerID=b.CustomerID\n",
    "WHERE b.Cost>60;\n",
    "\"\"\"\n",
    "\n",
    "cursor.execute(show_customers_query)\n",
    "results = cursor.fetchall()\n",
    "for result in results:\n",
    "    print(result)"
   ]
  },
  {
   "cell_type": "code",
   "execution_count": null,
   "id": "ccde6c41",
   "metadata": {},
   "outputs": [],
   "source": []
  }
 ],
 "metadata": {
  "kernelspec": {
   "display_name": "Python 3 (ipykernel)",
   "language": "python",
   "name": "python3"
  },
  "language_info": {
   "codemirror_mode": {
    "name": "ipython",
    "version": 3
   },
   "file_extension": ".py",
   "mimetype": "text/x-python",
   "name": "python",
   "nbconvert_exporter": "python",
   "pygments_lexer": "ipython3",
   "version": "3.11.5"
  }
 },
 "nbformat": 4,
 "nbformat_minor": 5
}
